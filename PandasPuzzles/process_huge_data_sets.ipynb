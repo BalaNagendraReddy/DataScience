{
 "cells": [
  {
   "cell_type": "code",
   "execution_count": 1,
   "id": "5d1815bf-76f5-4928-bacc-d421b001a081",
   "metadata": {},
   "outputs": [],
   "source": [
    "import pandas as pd"
   ]
  },
  {
   "cell_type": "code",
   "execution_count": 9,
   "id": "dd2d728a-ca16-4b87-943b-2d672fc4ee81",
   "metadata": {},
   "outputs": [
    {
     "data": {
      "text/html": [
       "<div>\n",
       "<style scoped>\n",
       "    .dataframe tbody tr th:only-of-type {\n",
       "        vertical-align: middle;\n",
       "    }\n",
       "\n",
       "    .dataframe tbody tr th {\n",
       "        vertical-align: top;\n",
       "    }\n",
       "\n",
       "    .dataframe thead th {\n",
       "        text-align: right;\n",
       "    }\n",
       "</style>\n",
       "<table border=\"1\" class=\"dataframe\">\n",
       "  <thead>\n",
       "    <tr style=\"text-align: right;\">\n",
       "      <th></th>\n",
       "      <th>499</th>\n",
       "      <th>big</th>\n",
       "      <th>44</th>\n",
       "      <th>green</th>\n",
       "      <th>True</th>\n",
       "      <th>2022-10-20</th>\n",
       "      <th>0.841</th>\n",
       "    </tr>\n",
       "  </thead>\n",
       "  <tbody>\n",
       "    <tr>\n",
       "      <th>0</th>\n",
       "      <td>500</td>\n",
       "      <td>big</td>\n",
       "      <td>41</td>\n",
       "      <td>blue</td>\n",
       "      <td>False</td>\n",
       "      <td>2022-12-08</td>\n",
       "      <td>0.2104</td>\n",
       "    </tr>\n",
       "    <tr>\n",
       "      <th>1</th>\n",
       "      <td>501</td>\n",
       "      <td>big</td>\n",
       "      <td>8</td>\n",
       "      <td>green</td>\n",
       "      <td>True</td>\n",
       "      <td>2020-07-04</td>\n",
       "      <td>0.6850</td>\n",
       "    </tr>\n",
       "    <tr>\n",
       "      <th>2</th>\n",
       "      <td>502</td>\n",
       "      <td>medium</td>\n",
       "      <td>21</td>\n",
       "      <td>green</td>\n",
       "      <td>False</td>\n",
       "      <td>2021-06-24</td>\n",
       "      <td>0.8755</td>\n",
       "    </tr>\n",
       "    <tr>\n",
       "      <th>3</th>\n",
       "      <td>503</td>\n",
       "      <td>medium</td>\n",
       "      <td>41</td>\n",
       "      <td>red</td>\n",
       "      <td>True</td>\n",
       "      <td>2020-07-22</td>\n",
       "      <td>0.5244</td>\n",
       "    </tr>\n",
       "    <tr>\n",
       "      <th>4</th>\n",
       "      <td>504</td>\n",
       "      <td>medium</td>\n",
       "      <td>16</td>\n",
       "      <td>blue</td>\n",
       "      <td>False</td>\n",
       "      <td>2022-01-28</td>\n",
       "      <td>0.2870</td>\n",
       "    </tr>\n",
       "  </tbody>\n",
       "</table>\n",
       "</div>"
      ],
      "text/plain": [
       "   499     big  44  green   True  2022-10-20   0.841\n",
       "0  500     big  41   blue  False  2022-12-08  0.2104\n",
       "1  501     big   8  green   True  2020-07-04  0.6850\n",
       "2  502  medium  21  green  False  2021-06-24  0.8755\n",
       "3  503  medium  41    red   True  2020-07-22  0.5244\n",
       "4  504  medium  16   blue  False  2022-01-28  0.2870"
      ]
     },
     "execution_count": 9,
     "metadata": {},
     "output_type": "execute_result"
    }
   ],
   "source": [
    "# df = pd.read_csv('test.csv')\n",
    "\n",
    "# Read only parts\n",
    "df = pd.read_csv('test.csv', nrows=100, skiprows=500)\n",
    "df.head(5)"
   ]
  },
  {
   "cell_type": "code",
   "execution_count": 11,
   "id": "34b67cc6-bdfc-48d4-88b7-2b319d15e489",
   "metadata": {},
   "outputs": [
    {
     "data": {
      "text/html": [
       "<div>\n",
       "<style scoped>\n",
       "    .dataframe tbody tr th:only-of-type {\n",
       "        vertical-align: middle;\n",
       "    }\n",
       "\n",
       "    .dataframe tbody tr th {\n",
       "        vertical-align: top;\n",
       "    }\n",
       "\n",
       "    .dataframe thead th {\n",
       "        text-align: right;\n",
       "    }\n",
       "</style>\n",
       "<table border=\"1\" class=\"dataframe\">\n",
       "  <thead>\n",
       "    <tr style=\"text-align: right;\">\n",
       "      <th></th>\n",
       "      <th>Index</th>\n",
       "      <th>size</th>\n",
       "      <th>age</th>\n",
       "      <th>team</th>\n",
       "      <th>win</th>\n",
       "      <th>date</th>\n",
       "      <th>prob</th>\n",
       "    </tr>\n",
       "  </thead>\n",
       "  <tbody>\n",
       "    <tr>\n",
       "      <th>0</th>\n",
       "      <td>500</td>\n",
       "      <td>big</td>\n",
       "      <td>41</td>\n",
       "      <td>blue</td>\n",
       "      <td>False</td>\n",
       "      <td>2022-12-08</td>\n",
       "      <td>0.2104</td>\n",
       "    </tr>\n",
       "    <tr>\n",
       "      <th>1</th>\n",
       "      <td>501</td>\n",
       "      <td>big</td>\n",
       "      <td>8</td>\n",
       "      <td>green</td>\n",
       "      <td>True</td>\n",
       "      <td>2020-07-04</td>\n",
       "      <td>0.6850</td>\n",
       "    </tr>\n",
       "    <tr>\n",
       "      <th>2</th>\n",
       "      <td>502</td>\n",
       "      <td>medium</td>\n",
       "      <td>21</td>\n",
       "      <td>green</td>\n",
       "      <td>False</td>\n",
       "      <td>2021-06-24</td>\n",
       "      <td>0.8755</td>\n",
       "    </tr>\n",
       "    <tr>\n",
       "      <th>3</th>\n",
       "      <td>503</td>\n",
       "      <td>medium</td>\n",
       "      <td>41</td>\n",
       "      <td>red</td>\n",
       "      <td>True</td>\n",
       "      <td>2020-07-22</td>\n",
       "      <td>0.5244</td>\n",
       "    </tr>\n",
       "    <tr>\n",
       "      <th>4</th>\n",
       "      <td>504</td>\n",
       "      <td>medium</td>\n",
       "      <td>16</td>\n",
       "      <td>blue</td>\n",
       "      <td>False</td>\n",
       "      <td>2022-01-28</td>\n",
       "      <td>0.2870</td>\n",
       "    </tr>\n",
       "  </tbody>\n",
       "</table>\n",
       "</div>"
      ],
      "text/plain": [
       "   Index    size  age   team    win        date    prob\n",
       "0    500     big   41   blue  False  2022-12-08  0.2104\n",
       "1    501     big    8  green   True  2020-07-04  0.6850\n",
       "2    502  medium   21  green  False  2021-06-24  0.8755\n",
       "3    503  medium   41    red   True  2020-07-22  0.5244\n",
       "4    504  medium   16   blue  False  2022-01-28  0.2870"
      ]
     },
     "execution_count": 11,
     "metadata": {},
     "output_type": "execute_result"
    }
   ],
   "source": [
    "df.columns = [\"Index\", \"size\", \"age\", \"team\", \"win\", \"date\", \"prob\"]\n",
    "df.head()"
   ]
  },
  {
   "cell_type": "code",
   "execution_count": 12,
   "id": "1954fda7-0be9-4d6f-917c-2bf6671c7abd",
   "metadata": {},
   "outputs": [],
   "source": [
    "metric_results = pd.Series([], dtype=\"float64\")"
   ]
  },
  {
   "cell_type": "code",
   "execution_count": 14,
   "id": "55ed5ae0-f038-4975-bd01-80e35f773c18",
   "metadata": {},
   "outputs": [],
   "source": [
    "metric_results = pd.concat([metric_results, df.age/df.prob])"
   ]
  },
  {
   "cell_type": "code",
   "execution_count": 15,
   "id": "c6895d74-0a6d-4564-96c6-1e960537188d",
   "metadata": {},
   "outputs": [
    {
     "data": {
      "text/plain": [
       "0     194.866920\n",
       "1      11.678832\n",
       "2      23.986294\n",
       "3      78.184592\n",
       "4      55.749129\n",
       "         ...    \n",
       "95     49.878866\n",
       "96      4.444444\n",
       "97     55.045872\n",
       "98     68.867733\n",
       "99     56.435463\n",
       "Length: 100, dtype: float64"
      ]
     },
     "execution_count": 15,
     "metadata": {},
     "output_type": "execute_result"
    }
   ],
   "source": [
    "metric_results"
   ]
  },
  {
   "cell_type": "code",
   "execution_count": 16,
   "id": "d3145a3c-0059-4380-9509-1997448e51c3",
   "metadata": {},
   "outputs": [
    {
     "data": {
      "text/plain": [
       "0          37.753657\n",
       "1           6.165228\n",
       "2          27.478334\n",
       "3          32.884903\n",
       "4          75.407443\n",
       "             ...    \n",
       "4999995    25.059666\n",
       "4999996     8.706468\n",
       "4999997    33.557047\n",
       "4999998    35.971223\n",
       "4999999    27.383367\n",
       "Length: 5000000, dtype: float64"
      ]
     },
     "execution_count": 16,
     "metadata": {},
     "output_type": "execute_result"
    }
   ],
   "source": [
    "counter = 0\n",
    "metric_results = pd.Series([], dtype=\"float64\")\n",
    "\n",
    "for chunk in pd.read_csv(\"test.csv\", chunksize=1000):\n",
    "    chunk.columns = [\"Index\", \"size\", \"age\", \"team\", \"win\", \"date\", \"prob\"]\n",
    "    metric_results = pd.concat([metric_results, chunk.age/chunk.prob])\n",
    "    counter += 1\n",
    "    # if counter == 20:\n",
    "    #     break\n",
    "metric_results\n"
   ]
  }
 ],
 "metadata": {
  "kernelspec": {
   "display_name": "Python 3 (ipykernel)",
   "language": "python",
   "name": "python3"
  },
  "language_info": {
   "codemirror_mode": {
    "name": "ipython",
    "version": 3
   },
   "file_extension": ".py",
   "mimetype": "text/x-python",
   "name": "python",
   "nbconvert_exporter": "python",
   "pygments_lexer": "ipython3",
   "version": "3.12.2"
  }
 },
 "nbformat": 4,
 "nbformat_minor": 5
}
