{
 "cells": [
  {
   "cell_type": "markdown",
   "id": "dac1bb8d-4450-4cea-ae39-d4e9e6712218",
   "metadata": {},
   "source": [
    "#### Question: #1 \n",
    "We have a table with employees and their salaries, however, some of the records are old and contain outdated salary information. Find the current salary of each employee assuming that salaries increase each year. Output their id, first name, last name, department ID, and current salary. Order your list by employee ID in ascending order."
   ]
  },
  {
   "cell_type": "code",
   "execution_count": null,
   "id": "36ea0429-7e67-4236-a097-ea4bc7c8fc3e",
   "metadata": {},
   "outputs": [],
   "source": [
    "# Import your libraries\n",
    "import pandas as pd\n",
    "\n",
    "# Start writing code\n",
    "sorted_salaries = ms_employee_salary.sort_values(['salary'], ascending=False)\n",
    "\n",
    "current_salaries = sorted_salaries.drop_duplicates(['id'])\n",
    "\n",
    "result = current_salaries.sort_values(['id'])\n",
    "\n",
    "result"
   ]
  },
  {
   "cell_type": "raw",
   "id": "ec1c1d07-a9c3-4aa6-badd-aa7dcd346be5",
   "metadata": {},
   "source": [
    "id\tfirst_name\tlast_name\tsalary\tdepartment_id\n",
    "1\tTodd\tWilson\t110000\t1006\n",
    "2\tJustin\tSimon\t130000\t1005\n",
    "3\tKelly\tRosario\t42689\t1002\n",
    "4\tPatricia\tPowell\t170000\t1004\n",
    "5\tSherry\tGolden\t44101\t1002"
   ]
  },
  {
   "cell_type": "code",
   "execution_count": null,
   "id": "d637cce0-5690-4abf-b838-db9a06dc1973",
   "metadata": {},
   "outputs": [],
   "source": []
  }
 ],
 "metadata": {
  "kernelspec": {
   "display_name": "Python 3 (ipykernel)",
   "language": "python",
   "name": "python3"
  },
  "language_info": {
   "codemirror_mode": {
    "name": "ipython",
    "version": 3
   },
   "file_extension": ".py",
   "mimetype": "text/x-python",
   "name": "python",
   "nbconvert_exporter": "python",
   "pygments_lexer": "ipython3",
   "version": "3.12.2"
  }
 },
 "nbformat": 4,
 "nbformat_minor": 5
}
